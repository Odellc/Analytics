{
 "cells": [
  {
   "cell_type": "code",
   "execution_count": 1,
   "id": "e0a7a7bf",
   "metadata": {},
   "outputs": [],
   "source": [
    "import os\n",
    "import sys\n",
    "from azure.storage.blob import BlobServiceClient, BlobClient, ContainerClient, __version__\n",
    "from dotenv import load_dotenv\n",
    "import pandas as pd\n",
    "import datetime\n",
    "from dateutil import parser as date_parser\n",
    "import json\n",
    "from pprint import pprint\n",
    "from functions import *"
   ]
  },
  {
   "cell_type": "code",
   "execution_count": 3,
   "id": "9e2fc3b2",
   "metadata": {},
   "outputs": [],
   "source": [
    "# Environment vars\n",
    "load_dotenv()\n",
    "connect_str = os.getenv('AZURE_STORAGE_CONNECTION_STRING')"
   ]
  },
  {
   "cell_type": "code",
   "execution_count": 6,
   "id": "27b27c97",
   "metadata": {},
   "outputs": [],
   "source": [
    "# Hardcoded date\n",
    "today = datetime.datetime(year=2022, month=5, day=17)\n",
    "today_str = datetime_string(today, \"/\")"
   ]
  },
  {
   "cell_type": "code",
   "execution_count": null,
   "id": "a9825fac",
   "metadata": {},
   "outputs": [],
   "source": [
    "# Instantiate blob service client\n",
    "try:\n",
    "    blob_service_client = BlobServiceClient.from_connection_string(connect_str)\n",
    "except Exception as e:\n",
    "    print(f'Unable to connect to BlobServiceClient: {e}')"
   ]
  },
  {
   "cell_type": "code",
   "execution_count": null,
   "id": "94a1e28c",
   "metadata": {},
   "outputs": [],
   "source": [
    "# Fetching users, accounts, and chargebee subscriptions.\n",
    "# Merging all tables into one.\n",
    "df = get_users_accounts_subscriptions_data(blob_service_client, today_str)"
   ]
  },
  {
   "cell_type": "code",
   "execution_count": null,
   "id": "495f95ff",
   "metadata": {},
   "outputs": [],
   "source": [
    "df[\"user|dateCreated.$date\"].head()\n",
    "df[df[\"user|dateCreated.$date\"] != None].head()"
   ]
  },
  {
   "cell_type": "code",
   "execution_count": null,
   "id": "b245edb7",
   "metadata": {},
   "outputs": [],
   "source": [
    "# Last 60 days\n",
    "# threshold_date = today - datetime.timedelta(days=60)"
   ]
  },
  {
   "cell_type": "code",
   "execution_count": null,
   "id": "e9552c93",
   "metadata": {},
   "outputs": [],
   "source": [
    "# Filter on users created at least 60 days ago\n",
    "# df = df[df[\"user|dateCreated.$date\"] <= threshold_date]"
   ]
  },
  {
   "cell_type": "code",
   "execution_count": null,
   "id": "0b565769",
   "metadata": {},
   "outputs": [],
   "source": [
    "df.head()"
   ]
  },
  {
   "cell_type": "code",
   "execution_count": null,
   "id": "8f3d5ff8",
   "metadata": {},
   "outputs": [],
   "source": [
    "df.shape"
   ]
  },
  {
   "cell_type": "code",
   "execution_count": null,
   "id": "c4a34950",
   "metadata": {},
   "outputs": [],
   "source": [
    "# Read in CSDA data\n",
    "csda_df = pd.read_csv(os.path.join(os.pardir, \"shared_data\", \"csda_salesforce_export.csv\"))\n",
    "\n",
    "# Rename columns\n",
    "csda_df.columns = [\n",
    "    \"_\".join(column.lower().split())\n",
    "    for column in csda_df.columns\n",
    "]\n",
    "\n",
    "# Add prefix for clarity after join\n",
    "csda_df = csda_df.add_prefix(\"salesforce|\")"
   ]
  },
  {
   "cell_type": "code",
   "execution_count": null,
   "id": "d7542e25",
   "metadata": {},
   "outputs": [],
   "source": [
    "# Left join CSDA table with main dataframe (df)\n",
    "df = df.merge(\n",
    "    csda_df,\n",
    "    how=\"left\",\n",
    "    left_on=\"account|_id.$oid\",\n",
    "    right_on=\"salesforce|chargebee_id\"\n",
    ")"
   ]
  },
  {
   "cell_type": "code",
   "execution_count": null,
   "id": "625f1f3f",
   "metadata": {},
   "outputs": [],
   "source": [
    "# Get Hubspot data\n",
    "hubspot_df = get_hubspot_data()"
   ]
  },
  {
   "cell_type": "code",
   "execution_count": null,
   "id": "8f2b86f9",
   "metadata": {},
   "outputs": [],
   "source": [
    "# Merge users with HubSpot data\n",
    "df = df.merge(\n",
    "    hubspot_df,\n",
    "    how=\"left\",\n",
    "    left_on=\"user|email\",\n",
    "    right_on=\"hubspot|email\"\n",
    ")"
   ]
  },
  {
   "cell_type": "code",
   "execution_count": null,
   "id": "17363756",
   "metadata": {},
   "outputs": [],
   "source": [
    "# Add CSDA column\n",
    "df[\"salesforce|team_member_name\"] = df[\"salesforce|team_member_name\"].fillna(\"-\")\n",
    "df[\"salesforce|is_csda\"] = df[\"salesforce|team_member_name\"].map(\n",
    "    lambda x: True if x != \"-\" else False\n",
    ")"
   ]
  },
  {
   "cell_type": "code",
   "execution_count": null,
   "id": "4de7efa1",
   "metadata": {},
   "outputs": [],
   "source": [
    "# Rename columns intended to be kept\n",
    "column_name_remapping = {\n",
    "    \"account|_id.$oid\": \"account.id\",\n",
    "    \"account|name\": \"account.name\",\n",
    "    \"account|dateCreated.$date\": \"account.date_created\",\n",
    "    \"chargebee|status\": \"chargebee.status\",\n",
    "    \"user|_id.$oid\": \"user.id\",\n",
    "    \"user|language\": \"user.language\",\n",
    "    \"user|dateCreated.$date\": \"user.date_created\",\n",
    "    \"user|email\": \"user.email\",\n",
    "    \"user|auth0Cache.usermetadata.lastName\": \"user.last_name\",\n",
    "    \"user|auth0Cache.usermetadata.firstName\": \"user.first_name\",\n",
    "    \"account|users_count\": \"account.users_count\",\n",
    "    \"hubspot|jobtitle\": \"hubspot.job_title\",\n",
    "    \"hubspot|industry\": \"hubspot.industry\",\n",
    "    \"hubspot|numberofemployees\": \"hubspot.number_of_employees\",\n",
    "    \"salesforce|is_csda\": \"salesforce.is_csda\",\n",
    "    \"hubspot|country\": \"hubspot.country\"\n",
    "}\n",
    "\n",
    "# Keep only the keys of mapping columns\n",
    "df = df[column_name_remapping.keys()]\n",
    "\n",
    "# Change names of columns based on mapping\n",
    "df = df.rename(columns=column_name_remapping)"
   ]
  },
  {
   "cell_type": "code",
   "execution_count": null,
   "id": "d3623669",
   "metadata": {},
   "outputs": [],
   "source": [
    "# Change language code to categorical\n",
    "language_code_mapping = {\n",
    "    0: \"English\",\n",
    "    1: \"German\",\n",
    "    2: \"Chinese\",\n",
    "    3: \"Bulgarian\",\n",
    "    4: \"Spanish\",\n",
    "    5: \"French\",\n",
    "    6: \"Portuguese\"\n",
    "}\n",
    "\n",
    "df = df.replace({\"user.language\": language_code_mapping})"
   ]
  },
  {
   "cell_type": "code",
   "execution_count": null,
   "id": "e2d41c6c",
   "metadata": {},
   "outputs": [],
   "source": [
    "df.head()"
   ]
  },
  {
   "cell_type": "code",
   "execution_count": null,
   "id": "6c83ac4f",
   "metadata": {},
   "outputs": [],
   "source": [
    "# Fetch user_roles data\n",
    "user_roles_df = get_user_roles_table(blob_service_client, today_str)\n",
    "user_roles_df.head()"
   ]
  },
  {
   "cell_type": "code",
   "execution_count": null,
   "id": "a75569f7",
   "metadata": {},
   "outputs": [],
   "source": [
    "# Fetch roles data\n",
    "roles_df = get_roles_table(blob_service_client, today_str)\n",
    "roles_df.head()"
   ]
  },
  {
   "cell_type": "code",
   "execution_count": null,
   "id": "a362600b",
   "metadata": {},
   "outputs": [],
   "source": [
    "# Join user_roles with roles\n",
    "user_roles_df = user_roles_df.merge(\n",
    "    roles_df,\n",
    "    how=\"left\",\n",
    "    left_on=\"user_roles.roleId.$oid\",\n",
    "    right_on=\"roles._id.$oid\"\n",
    ")\n",
    "\n",
    "user_roles_df.head()"
   ]
  },
  {
   "cell_type": "code",
   "execution_count": null,
   "id": "ea81239c",
   "metadata": {},
   "outputs": [],
   "source": [
    "unique_user_roles_df = get_roles_by_user(user_roles_df)\n",
    "unique_user_roles_df.head()"
   ]
  },
  {
   "cell_type": "code",
   "execution_count": null,
   "id": "6d7b2f6e",
   "metadata": {},
   "outputs": [],
   "source": [
    "unique_user_roles_df[\"new_role\"] = unique_user_roles_df[\"roles\"].map(assign_role)\n",
    "unique_user_roles_df.head()"
   ]
  },
  {
   "cell_type": "code",
   "execution_count": null,
   "id": "f3d57bbd",
   "metadata": {},
   "outputs": [],
   "source": [
    "new_role_frequency = (\n",
    "    unique_user_roles_df.groupby([\"new_role\"])\n",
    "    .size()\n",
    "    .reset_index()\n",
    "    .rename(columns={0: \"count\"})\n",
    ")\n",
    "\n",
    "new_role_frequency.head(20)"
   ]
  },
  {
   "cell_type": "code",
   "execution_count": null,
   "id": "ec3642e2",
   "metadata": {},
   "outputs": [],
   "source": [
    "# Get model fit / % of model buy in\n",
    "total_usage = new_role_frequency[\"count\"].sum()\n",
    "catchall_usage = new_role_frequency[new_role_frequency[\"new_role\"] == \"other\"][\n",
    "    \"count\"\n",
    "].sum()\n",
    "\n",
    "print(\"Model Acceptance Rate:\", (total_usage - catchall_usage) / total_usage * 100, \"%\")"
   ]
  },
  {
   "cell_type": "code",
   "execution_count": null,
   "id": "33f1abbe",
   "metadata": {},
   "outputs": [],
   "source": [
    "# Join df with user_roles_df\n",
    "_df = df.merge(\n",
    "    unique_user_roles_df,\n",
    "    how=\"left\",\n",
    "    left_on=\"user.id\",\n",
    "    right_on=\"user_roles.userId.$oid\"\n",
    ")\n",
    "\n",
    "_df.head()"
   ]
  },
  {
   "cell_type": "code",
   "execution_count": null,
   "id": "71b29cce",
   "metadata": {},
   "outputs": [],
   "source": [
    "_df[\"roles\"] = _df[\"roles\"].fillna(\"\")\n",
    "# df[\"user.is_okr_champion\"] = df[\"roles\"].map(lambda role: True if \"champion\" in (_role := role.lower()) or (\"okr\" in _role and \"champion\" in _role) else False)"
   ]
  },
  {
   "cell_type": "code",
   "execution_count": null,
   "id": "c1e8f947",
   "metadata": {},
   "outputs": [],
   "source": [
    "# Are there any users with no role?\n",
    "_df[_df[\"new_role\"] == \"\"]"
   ]
  },
  {
   "cell_type": "code",
   "execution_count": null,
   "id": "1095eba4",
   "metadata": {},
   "outputs": [],
   "source": [
    "# Drop unnecessary columns\n",
    "\"\"\"\n",
    "Should I drop all id's?\n",
    "account.id\n",
    "user.id\n",
    "\n",
    "user_roles._id.$oid\n",
    "user_roles.userId.$oid\n",
    "user_roles.roleId.$oid\n",
    "user_roles.accountId.$oid\n",
    "roles._id.$oid\n",
    "roles.accountId.$oid\n",
    "\n",
    "\"\"\"\n",
    "\n",
    "df = df[\n",
    "    df.columns[\n",
    "        ~df.columns.isin(\n",
    "            [\n",
    "                # \"account.id\",\n",
    "                # \"user.id\",\n",
    "                \"user_roles._id.$oid\",\n",
    "                \"user_roles.userId.$oid\",\n",
    "                \"user_roles.roleId.$oid\",\n",
    "                \"user_roles.accountId.$oid\",\n",
    "                \"roles._id.$oid\",\n",
    "                \"roles.accountId.$oid\"\n",
    "            ]\n",
    "        )\n",
    "    ]\n",
    "]"
   ]
  },
  {
   "cell_type": "code",
   "execution_count": null,
   "id": "50afa5e0",
   "metadata": {},
   "outputs": [],
   "source": [
    "df.info()"
   ]
  },
  {
   "cell_type": "code",
   "execution_count": null,
   "id": "8ae67937",
   "metadata": {},
   "outputs": [],
   "source": [
    "df[\"user.date_created\"] = df[\"user.date_created\"].astype(\"datetime64[ns]\")\n",
    "df[\"account.date_created\"] = df[\"account.date_created\"].astype(\"datetime64[ns]\")"
   ]
  },
  {
   "cell_type": "code",
   "execution_count": null,
   "id": "d4b2a134",
   "metadata": {},
   "outputs": [],
   "source": [
    "df.info()"
   ]
  },
  {
   "cell_type": "code",
   "execution_count": null,
   "id": "0238fe70",
   "metadata": {},
   "outputs": [],
   "source": [
    "df.head()"
   ]
  },
  {
   "cell_type": "code",
   "execution_count": null,
   "id": "4e2cefa9",
   "metadata": {},
   "outputs": [],
   "source": [
    "# Format datetime fields as string for output file\n",
    "df[\"account.date_created\"] = df[\"account.date_created\"].dt.strftime(\"%Y/%m/%d\")\n",
    "df[\"user.date_created\"] = df[\"user.date_created\"].dt.strftime(\"%Y/%m/%d\")"
   ]
  },
  {
   "cell_type": "code",
   "execution_count": null,
   "id": "d582b13e",
   "metadata": {},
   "outputs": [],
   "source": [
    "df.shape"
   ]
  },
  {
   "cell_type": "code",
   "execution_count": null,
   "id": "eba5c29c",
   "metadata": {},
   "outputs": [],
   "source": [
    "# Rename columns to be more intuitive\n",
    "unique_user_roles_df.rename(columns={\"user_roles.userId.$oid\": \"user_id\"}, inplace=True)"
   ]
  },
  {
   "cell_type": "code",
   "execution_count": 8,
   "id": "ae57bf19",
   "metadata": {},
   "outputs": [],
   "source": [
    "output_path = os.path.join(\n",
    "    \"output\", \n",
    "    f\"unique_user_roles_{datetime_string(today, '-')} as of {datetime_string(datetime.datetime.now(), '-')}.csv\"\n",
    ")\n"
   ]
  },
  {
   "cell_type": "code",
   "execution_count": null,
   "id": "2c54882b",
   "metadata": {},
   "outputs": [],
   "source": [
    "# Save data to csv file\n",
    "unique_user_roles_df.to_csv(output_path, index=False)"
   ]
  },
  {
   "cell_type": "code",
   "execution_count": 4,
   "id": "3cbd702d",
   "metadata": {},
   "outputs": [],
   "source": [
    "# Upload output to data lake\n",
    "dl = DataLake(connect_str)"
   ]
  },
  {
   "cell_type": "code",
   "execution_count": 9,
   "id": "504273b5",
   "metadata": {},
   "outputs": [
    {
     "data": {
      "text/plain": [
       "True"
      ]
     },
     "execution_count": 9,
     "metadata": {},
     "output_type": "execute_result"
    }
   ],
   "source": [
    "lake_path = \"Processed/user_roles.csv\"\n",
    "file_path = output_path\n",
    "dl.upload_file(lake_path, file_path)"
   ]
  }
 ],
 "metadata": {
  "interpreter": {
   "hash": "8b1a786608aee9c71e65d8f1a8555e20ee0e80ff4ca575cfe022af5b9c77459e"
  },
  "kernelspec": {
   "display_name": "Python 3.8.10 ('venv': venv)",
   "language": "python",
   "name": "python3"
  },
  "language_info": {
   "codemirror_mode": {
    "name": "ipython",
    "version": 3
   },
   "file_extension": ".py",
   "mimetype": "text/x-python",
   "name": "python",
   "nbconvert_exporter": "python",
   "pygments_lexer": "ipython3",
   "version": "3.8.10"
  }
 },
 "nbformat": 4,
 "nbformat_minor": 5
}
