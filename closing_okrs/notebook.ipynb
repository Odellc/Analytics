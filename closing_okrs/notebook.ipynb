{
 "cells": [
  {
   "cell_type": "code",
   "execution_count": 1,
   "id": "19206ad6",
   "metadata": {},
   "outputs": [],
   "source": [
    "import os\n",
    "import sys\n",
    "from azure.storage.blob import BlobServiceClient, BlobClient, ContainerClient, __version__\n",
    "from dotenv import load_dotenv\n",
    "import pandas as pd\n",
    "import datetime\n",
    "from dateutil import parser as date_parser\n",
    "import json\n",
    "from pprint import pprint\n",
    "from functions import *"
   ]
  },
  {
   "cell_type": "code",
   "execution_count": 2,
   "id": "9e2fc3b2",
   "metadata": {},
   "outputs": [],
   "source": [
    "# Environment vars\n",
    "load_dotenv()\n",
    "connect_str = os.getenv('AZURE_STORAGE_CONNECTION_STRING')"
   ]
  },
  {
   "cell_type": "code",
   "execution_count": 3,
   "id": "27b27c97",
   "metadata": {},
   "outputs": [],
   "source": [
    "# Hardcoded date\n",
    "today = datetime.datetime(year=2022, month=4, day=7)\n",
    "today_str = datetime_string(today, \"/\")"
   ]
  },
  {
   "cell_type": "code",
   "execution_count": 4,
   "id": "a9825fac",
   "metadata": {},
   "outputs": [],
   "source": [
    "# Instantiate blob service client\n",
    "try:\n",
    "    blob_service_client = BlobServiceClient.from_connection_string(connect_str)\n",
    "except Exception as e:\n",
    "    print(f'Unable to connect to BlobServiceClient: {e}')"
   ]
  },
  {
   "cell_type": "code",
   "execution_count": 5,
   "id": "94a1e28c",
   "metadata": {},
   "outputs": [
    {
     "name": "stdout",
     "output_type": "stream",
     "text": [
      "Fetching user data...\n",
      "<class 'pandas.core.frame.DataFrame'>\n",
      "Int64Index: 88329 entries, 3 to 90338\n",
      "Data columns (total 10 columns):\n",
      " #   Column                             Non-Null Count  Dtype  \n",
      "---  ------                             --------------  -----  \n",
      " 0   _id.$oid                           88329 non-null  object \n",
      " 1   accountId.$oid                     88329 non-null  object \n",
      " 2   language                           88289 non-null  float64\n",
      " 3   dateCreated.$date                  88329 non-null  int64  \n",
      " 4   email                              88329 non-null  object \n",
      " 5   auth0Cache.usermetadata.lastName   88248 non-null  object \n",
      " 6   auth0Cache.usermetadata.firstName  88256 non-null  object \n",
      " 7   subscriptionType                   88329 non-null  object \n",
      " 8   isPrimary                          88329 non-null  bool   \n",
      " 9   auth0Cache.usermetadata.demo       161 non-null    object \n",
      "dtypes: bool(1), float64(1), int64(1), object(7)\n",
      "memory usage: 6.8+ MB\n",
      "None\n"
     ]
    },
    {
     "ename": "OSError",
     "evalue": "[Errno 22] Invalid argument",
     "output_type": "error",
     "traceback": [
      "\u001b[1;31m---------------------------------------------------------------------------\u001b[0m",
      "\u001b[1;31mOSError\u001b[0m                                   Traceback (most recent call last)",
      "Input \u001b[1;32mIn [5]\u001b[0m, in \u001b[0;36m<cell line: 3>\u001b[1;34m()\u001b[0m\n\u001b[0;32m      1\u001b[0m \u001b[38;5;66;03m# Fetching users, accounts, and chargebee subscriptions.\u001b[39;00m\n\u001b[0;32m      2\u001b[0m \u001b[38;5;66;03m# Merging all tables into one.\u001b[39;00m\n\u001b[1;32m----> 3\u001b[0m df \u001b[38;5;241m=\u001b[39m \u001b[43mget_users_accounts_subscriptions_data\u001b[49m\u001b[43m(\u001b[49m\u001b[43mblob_service_client\u001b[49m\u001b[43m,\u001b[49m\u001b[43m \u001b[49m\u001b[43mtoday_str\u001b[49m\u001b[43m)\u001b[49m\n",
      "File \u001b[1;32mc:\\Users\\Public\\python_scripts\\closing_okrs\\functions.py:408\u001b[0m, in \u001b[0;36mget_users_accounts_subscriptions_data\u001b[1;34m(blob_service_client, today_str)\u001b[0m\n\u001b[0;32m    407\u001b[0m \u001b[38;5;28;01mdef\u001b[39;00m \u001b[38;5;21mget_users_accounts_subscriptions_data\u001b[39m(blob_service_client, today_str):\n\u001b[1;32m--> 408\u001b[0m     users_df \u001b[38;5;241m=\u001b[39m \u001b[43mget_users_data\u001b[49m\u001b[43m(\u001b[49m\u001b[43mblob_service_client\u001b[49m\u001b[43m,\u001b[49m\u001b[43m \u001b[49m\u001b[43mtoday_str\u001b[49m\u001b[43m)\u001b[49m    \n\u001b[0;32m    410\u001b[0m     \u001b[38;5;66;03m# Add prefixes for table clarity\u001b[39;00m\n\u001b[0;32m    411\u001b[0m     users_df \u001b[38;5;241m=\u001b[39m users_df\u001b[38;5;241m.\u001b[39madd_prefix(\u001b[38;5;124m'\u001b[39m\u001b[38;5;124muser|\u001b[39m\u001b[38;5;124m'\u001b[39m)\n",
      "File \u001b[1;32mc:\\Users\\Public\\python_scripts\\closing_okrs\\functions.py:400\u001b[0m, in \u001b[0;36mget_users_data\u001b[1;34m(blob_service_client, today_str)\u001b[0m\n\u001b[0;32m    383\u001b[0m \u001b[38;5;28mprint\u001b[39m(users_df\u001b[38;5;241m.\u001b[39minfo())\n\u001b[0;32m    385\u001b[0m \u001b[38;5;66;03m# Handle the weird negative timestamp.\u001b[39;00m\n\u001b[0;32m    386\u001b[0m \u001b[38;5;66;03m# users_df[\"dateCreated.$date\"] = users_df[\"dateCreated.$date\"].map(lambda dt: abs(dt))\u001b[39;00m\n\u001b[0;32m    387\u001b[0m \n\u001b[1;32m   (...)\u001b[0m\n\u001b[0;32m    397\u001b[0m \u001b[38;5;66;03m#     unit=\"ms\"\u001b[39;00m\n\u001b[0;32m    398\u001b[0m \u001b[38;5;66;03m# )\u001b[39;00m\n\u001b[1;32m--> 400\u001b[0m users_df[\u001b[38;5;124m\"\u001b[39m\u001b[38;5;124mdateCreated.$date\u001b[39m\u001b[38;5;124m\"\u001b[39m] \u001b[38;5;241m=\u001b[39m \u001b[43musers_df\u001b[49m\u001b[43m[\u001b[49m\u001b[38;5;124;43m\"\u001b[39;49m\u001b[38;5;124;43mdateCreated.$date\u001b[39;49m\u001b[38;5;124;43m\"\u001b[39;49m\u001b[43m]\u001b[49m\u001b[38;5;241;43m.\u001b[39;49m\u001b[43mapply\u001b[49m\u001b[43m(\u001b[49m\n\u001b[0;32m    401\u001b[0m \u001b[43m    \u001b[49m\u001b[38;5;28;43;01mlambda\u001b[39;49;00m\u001b[43m \u001b[49m\u001b[43mx\u001b[49m\u001b[43m:\u001b[49m\u001b[43m \u001b[49m\u001b[43mdatetime\u001b[49m\u001b[38;5;241;43m.\u001b[39;49m\u001b[43mdatetime\u001b[49m\u001b[38;5;241;43m.\u001b[39;49m\u001b[43mfromtimestamp\u001b[49m\u001b[43m(\u001b[49m\u001b[38;5;28;43mabs\u001b[39;49m\u001b[43m(\u001b[49m\u001b[38;5;28;43mint\u001b[39;49m\u001b[43m(\u001b[49m\u001b[43mx\u001b[49m\u001b[43m)\u001b[49m\u001b[43m)\u001b[49m\u001b[43m \u001b[49m\u001b[38;5;241;43m/\u001b[39;49m\u001b[43m \u001b[49m\u001b[38;5;241;43m1000\u001b[39;49m\u001b[43m)\u001b[49m\n\u001b[0;32m    402\u001b[0m \u001b[43m\u001b[49m\u001b[43m)\u001b[49m\n\u001b[0;32m    404\u001b[0m \u001b[38;5;28;01mreturn\u001b[39;00m users_df\n",
      "File \u001b[1;32mc:\\Users\\Public\\python_scripts\\closing_okrs\\venv\\lib\\site-packages\\pandas\\core\\series.py:4433\u001b[0m, in \u001b[0;36mSeries.apply\u001b[1;34m(self, func, convert_dtype, args, **kwargs)\u001b[0m\n\u001b[0;32m   4323\u001b[0m \u001b[38;5;28;01mdef\u001b[39;00m \u001b[38;5;21mapply\u001b[39m(\n\u001b[0;32m   4324\u001b[0m     \u001b[38;5;28mself\u001b[39m,\n\u001b[0;32m   4325\u001b[0m     func: AggFuncType,\n\u001b[1;32m   (...)\u001b[0m\n\u001b[0;32m   4328\u001b[0m     \u001b[38;5;241m*\u001b[39m\u001b[38;5;241m*\u001b[39mkwargs,\n\u001b[0;32m   4329\u001b[0m ) \u001b[38;5;241m-\u001b[39m\u001b[38;5;241m>\u001b[39m DataFrame \u001b[38;5;241m|\u001b[39m Series:\n\u001b[0;32m   4330\u001b[0m     \u001b[38;5;124;03m\"\"\"\u001b[39;00m\n\u001b[0;32m   4331\u001b[0m \u001b[38;5;124;03m    Invoke function on values of Series.\u001b[39;00m\n\u001b[0;32m   4332\u001b[0m \n\u001b[1;32m   (...)\u001b[0m\n\u001b[0;32m   4431\u001b[0m \u001b[38;5;124;03m    dtype: float64\u001b[39;00m\n\u001b[0;32m   4432\u001b[0m \u001b[38;5;124;03m    \"\"\"\u001b[39;00m\n\u001b[1;32m-> 4433\u001b[0m     \u001b[38;5;28;01mreturn\u001b[39;00m \u001b[43mSeriesApply\u001b[49m\u001b[43m(\u001b[49m\u001b[38;5;28;43mself\u001b[39;49m\u001b[43m,\u001b[49m\u001b[43m \u001b[49m\u001b[43mfunc\u001b[49m\u001b[43m,\u001b[49m\u001b[43m \u001b[49m\u001b[43mconvert_dtype\u001b[49m\u001b[43m,\u001b[49m\u001b[43m \u001b[49m\u001b[43margs\u001b[49m\u001b[43m,\u001b[49m\u001b[43m \u001b[49m\u001b[43mkwargs\u001b[49m\u001b[43m)\u001b[49m\u001b[38;5;241;43m.\u001b[39;49m\u001b[43mapply\u001b[49m\u001b[43m(\u001b[49m\u001b[43m)\u001b[49m\n",
      "File \u001b[1;32mc:\\Users\\Public\\python_scripts\\closing_okrs\\venv\\lib\\site-packages\\pandas\\core\\apply.py:1082\u001b[0m, in \u001b[0;36mSeriesApply.apply\u001b[1;34m(self)\u001b[0m\n\u001b[0;32m   1078\u001b[0m \u001b[38;5;28;01mif\u001b[39;00m \u001b[38;5;28misinstance\u001b[39m(\u001b[38;5;28mself\u001b[39m\u001b[38;5;241m.\u001b[39mf, \u001b[38;5;28mstr\u001b[39m):\n\u001b[0;32m   1079\u001b[0m     \u001b[38;5;66;03m# if we are a string, try to dispatch\u001b[39;00m\n\u001b[0;32m   1080\u001b[0m     \u001b[38;5;28;01mreturn\u001b[39;00m \u001b[38;5;28mself\u001b[39m\u001b[38;5;241m.\u001b[39mapply_str()\n\u001b[1;32m-> 1082\u001b[0m \u001b[38;5;28;01mreturn\u001b[39;00m \u001b[38;5;28;43mself\u001b[39;49m\u001b[38;5;241;43m.\u001b[39;49m\u001b[43mapply_standard\u001b[49m\u001b[43m(\u001b[49m\u001b[43m)\u001b[49m\n",
      "File \u001b[1;32mc:\\Users\\Public\\python_scripts\\closing_okrs\\venv\\lib\\site-packages\\pandas\\core\\apply.py:1137\u001b[0m, in \u001b[0;36mSeriesApply.apply_standard\u001b[1;34m(self)\u001b[0m\n\u001b[0;32m   1131\u001b[0m         values \u001b[38;5;241m=\u001b[39m obj\u001b[38;5;241m.\u001b[39mastype(\u001b[38;5;28mobject\u001b[39m)\u001b[38;5;241m.\u001b[39m_values\n\u001b[0;32m   1132\u001b[0m         \u001b[38;5;66;03m# error: Argument 2 to \"map_infer\" has incompatible type\u001b[39;00m\n\u001b[0;32m   1133\u001b[0m         \u001b[38;5;66;03m# \"Union[Callable[..., Any], str, List[Union[Callable[..., Any], str]],\u001b[39;00m\n\u001b[0;32m   1134\u001b[0m         \u001b[38;5;66;03m# Dict[Hashable, Union[Union[Callable[..., Any], str],\u001b[39;00m\n\u001b[0;32m   1135\u001b[0m         \u001b[38;5;66;03m# List[Union[Callable[..., Any], str]]]]]\"; expected\u001b[39;00m\n\u001b[0;32m   1136\u001b[0m         \u001b[38;5;66;03m# \"Callable[[Any], Any]\"\u001b[39;00m\n\u001b[1;32m-> 1137\u001b[0m         mapped \u001b[38;5;241m=\u001b[39m \u001b[43mlib\u001b[49m\u001b[38;5;241;43m.\u001b[39;49m\u001b[43mmap_infer\u001b[49m\u001b[43m(\u001b[49m\n\u001b[0;32m   1138\u001b[0m \u001b[43m            \u001b[49m\u001b[43mvalues\u001b[49m\u001b[43m,\u001b[49m\n\u001b[0;32m   1139\u001b[0m \u001b[43m            \u001b[49m\u001b[43mf\u001b[49m\u001b[43m,\u001b[49m\u001b[43m  \u001b[49m\u001b[38;5;66;43;03m# type: ignore[arg-type]\u001b[39;49;00m\n\u001b[0;32m   1140\u001b[0m \u001b[43m            \u001b[49m\u001b[43mconvert\u001b[49m\u001b[38;5;241;43m=\u001b[39;49m\u001b[38;5;28;43mself\u001b[39;49m\u001b[38;5;241;43m.\u001b[39;49m\u001b[43mconvert_dtype\u001b[49m\u001b[43m,\u001b[49m\n\u001b[0;32m   1141\u001b[0m \u001b[43m        \u001b[49m\u001b[43m)\u001b[49m\n\u001b[0;32m   1143\u001b[0m \u001b[38;5;28;01mif\u001b[39;00m \u001b[38;5;28mlen\u001b[39m(mapped) \u001b[38;5;129;01mand\u001b[39;00m \u001b[38;5;28misinstance\u001b[39m(mapped[\u001b[38;5;241m0\u001b[39m], ABCSeries):\n\u001b[0;32m   1144\u001b[0m     \u001b[38;5;66;03m# GH#43986 Need to do list(mapped) in order to get treated as nested\u001b[39;00m\n\u001b[0;32m   1145\u001b[0m     \u001b[38;5;66;03m#  See also GH#25959 regarding EA support\u001b[39;00m\n\u001b[0;32m   1146\u001b[0m     \u001b[38;5;28;01mreturn\u001b[39;00m obj\u001b[38;5;241m.\u001b[39m_constructor_expanddim(\u001b[38;5;28mlist\u001b[39m(mapped), index\u001b[38;5;241m=\u001b[39mobj\u001b[38;5;241m.\u001b[39mindex)\n",
      "File \u001b[1;32mc:\\Users\\Public\\python_scripts\\closing_okrs\\venv\\lib\\site-packages\\pandas\\_libs\\lib.pyx:2870\u001b[0m, in \u001b[0;36mpandas._libs.lib.map_infer\u001b[1;34m()\u001b[0m\n",
      "File \u001b[1;32mc:\\Users\\Public\\python_scripts\\closing_okrs\\functions.py:401\u001b[0m, in \u001b[0;36mget_users_data.<locals>.<lambda>\u001b[1;34m(x)\u001b[0m\n\u001b[0;32m    383\u001b[0m \u001b[38;5;28mprint\u001b[39m(users_df\u001b[38;5;241m.\u001b[39minfo())\n\u001b[0;32m    385\u001b[0m \u001b[38;5;66;03m# Handle the weird negative timestamp.\u001b[39;00m\n\u001b[0;32m    386\u001b[0m \u001b[38;5;66;03m# users_df[\"dateCreated.$date\"] = users_df[\"dateCreated.$date\"].map(lambda dt: abs(dt))\u001b[39;00m\n\u001b[0;32m    387\u001b[0m \n\u001b[1;32m   (...)\u001b[0m\n\u001b[0;32m    397\u001b[0m \u001b[38;5;66;03m#     unit=\"ms\"\u001b[39;00m\n\u001b[0;32m    398\u001b[0m \u001b[38;5;66;03m# )\u001b[39;00m\n\u001b[0;32m    400\u001b[0m users_df[\u001b[38;5;124m\"\u001b[39m\u001b[38;5;124mdateCreated.$date\u001b[39m\u001b[38;5;124m\"\u001b[39m] \u001b[38;5;241m=\u001b[39m users_df[\u001b[38;5;124m\"\u001b[39m\u001b[38;5;124mdateCreated.$date\u001b[39m\u001b[38;5;124m\"\u001b[39m]\u001b[38;5;241m.\u001b[39mapply(\n\u001b[1;32m--> 401\u001b[0m     \u001b[38;5;28;01mlambda\u001b[39;00m x: \u001b[43mdatetime\u001b[49m\u001b[38;5;241;43m.\u001b[39;49m\u001b[43mdatetime\u001b[49m\u001b[38;5;241;43m.\u001b[39;49m\u001b[43mfromtimestamp\u001b[49m\u001b[43m(\u001b[49m\u001b[38;5;28;43mabs\u001b[39;49m\u001b[43m(\u001b[49m\u001b[38;5;28;43mint\u001b[39;49m\u001b[43m(\u001b[49m\u001b[43mx\u001b[49m\u001b[43m)\u001b[49m\u001b[43m)\u001b[49m\u001b[43m \u001b[49m\u001b[38;5;241;43m/\u001b[39;49m\u001b[43m \u001b[49m\u001b[38;5;241;43m1000\u001b[39;49m\u001b[43m)\u001b[49m\n\u001b[0;32m    402\u001b[0m )\n\u001b[0;32m    404\u001b[0m \u001b[38;5;28;01mreturn\u001b[39;00m users_df\n",
      "\u001b[1;31mOSError\u001b[0m: [Errno 22] Invalid argument"
     ]
    }
   ],
   "source": [
    "# Fetching users, accounts, and chargebee subscriptions.\n",
    "# Merging all tables into one.\n",
    "df = get_users_accounts_subscriptions_data(blob_service_client, today_str)"
   ]
  },
  {
   "cell_type": "code",
   "execution_count": null,
   "id": "495f95ff",
   "metadata": {},
   "outputs": [],
   "source": [
    "df[\"user|dateCreated.$date\"].head()"
   ]
  },
  {
   "cell_type": "code",
   "execution_count": null,
   "id": "b245edb7",
   "metadata": {},
   "outputs": [],
   "source": [
    "# Last 60 days\n",
    "threshold_date = today - datetime.timedelta(days=60)"
   ]
  },
  {
   "cell_type": "code",
   "execution_count": null,
   "id": "e9552c93",
   "metadata": {},
   "outputs": [],
   "source": [
    "# Filter on users created at least 60 days ago\n",
    "df = df[df[\"user|dateCreated.$date\"] <= threshold_date]"
   ]
  },
  {
   "cell_type": "code",
   "execution_count": null,
   "id": "eac1c372",
   "metadata": {},
   "outputs": [],
   "source": [
    "# Number of unique users existing for at least 60 days\n",
    "df.shape[0]"
   ]
  },
  {
   "cell_type": "code",
   "execution_count": null,
   "id": "c4a34950",
   "metadata": {},
   "outputs": [],
   "source": [
    "# Read in CSDA data\n",
    "csda_df = pd.read_csv(os.path.join(os.pardir, \"shared_data\", \"csda_salesforce_export.csv\"))\n",
    "\n",
    "# Rename columns\n",
    "csda_df.columns = [\n",
    "    \"_\".join(column.lower().split())\n",
    "    for column in csda_df.columns\n",
    "]\n",
    "\n",
    "# Add prefix for clarity after join\n",
    "csda_df = csda_df.add_prefix(\"salesforce|\")"
   ]
  },
  {
   "cell_type": "code",
   "execution_count": null,
   "id": "d7542e25",
   "metadata": {},
   "outputs": [],
   "source": [
    "# Left join CSDA table with main dataframe (df)\n",
    "df = df.merge(\n",
    "    csda_df,\n",
    "    how=\"left\",\n",
    "    left_on=\"account|_id.$oid\",\n",
    "    right_on=\"salesforce|chargebee_id\"\n",
    ")"
   ]
  },
  {
   "cell_type": "code",
   "execution_count": null,
   "id": "625f1f3f",
   "metadata": {},
   "outputs": [],
   "source": [
    "# Get Hubspot data\n",
    "hubspot_df = get_hubspot_data()"
   ]
  },
  {
   "cell_type": "code",
   "execution_count": null,
   "id": "8f2b86f9",
   "metadata": {},
   "outputs": [],
   "source": [
    "# Merge users with HubSpot data\n",
    "df = df.merge(\n",
    "    hubspot_df,\n",
    "    how=\"left\",\n",
    "    left_on=\"user|email\",\n",
    "    right_on=\"hubspot|email\"\n",
    ")"
   ]
  },
  {
   "cell_type": "code",
   "execution_count": null,
   "id": "17363756",
   "metadata": {},
   "outputs": [],
   "source": [
    "# Add CSDA column\n",
    "df[\"salesforce|team_member_name\"] = df[\"salesforce|team_member_name\"].fillna(\"-\")\n",
    "df[\"salesforce|is_csda\"] = df[\"salesforce|team_member_name\"].map(\n",
    "    lambda x: True if x != \"-\" else False\n",
    ")"
   ]
  },
  {
   "cell_type": "code",
   "execution_count": null,
   "id": "4de7efa1",
   "metadata": {},
   "outputs": [],
   "source": [
    "# Rename columns intended to be kept\n",
    "column_name_remapping = {\n",
    "    \"account|_id.$oid\": \"account.id\",\n",
    "    \"account|name\": \"account.name\",\n",
    "    \"account|dateCreated.$date\": \"account.date_created\",\n",
    "    \"chargebee|status\": \"chargebee.status\",\n",
    "    \"user|_id.$oid\": \"user.id\",\n",
    "    \"user|language\": \"user.language\",\n",
    "    \"user|dateCreated.$date\": \"user.date_created\",\n",
    "    \"user|email\": \"user.email\",\n",
    "    \"user|auth0Cache.usermetadata.lastName\": \"user.last_name\",\n",
    "    \"user|auth0Cache.usermetadata.firstName\": \"user.first_name\",\n",
    "    \"account|users_count\": \"account.users_count\",\n",
    "    \"hubspot|jobtitle\": \"hubspot.job_title\",\n",
    "    \"hubspot|industry\": \"hubspot.industry\",\n",
    "    \"hubspot|numberofemployees\": \"hubspot.number_of_employees\",\n",
    "    \"salesforce|is_csda\": \"salesforce.is_csda\",\n",
    "    \"hubspot|country\": \"hubspot.country\"\n",
    "}\n",
    "\n",
    "# Keep only the keys of mapping columns\n",
    "df = df[column_name_remapping.keys()]\n",
    "\n",
    "# Change names of columns based on mapping\n",
    "df = df.rename(columns=column_name_remapping)"
   ]
  },
  {
   "cell_type": "code",
   "execution_count": null,
   "id": "d3623669",
   "metadata": {},
   "outputs": [],
   "source": [
    "# Change language code to categorical\n",
    "language_code_mapping = {\n",
    "    0: \"English\",\n",
    "    1: \"German\",\n",
    "    2: \"Chinese\",\n",
    "    3: \"Bulgarian\",\n",
    "    4: \"Spanish\",\n",
    "    5: \"French\",\n",
    "    6: \"Portuguese\"\n",
    "}\n",
    "\n",
    "df = df.replace({\"user.language\": language_code_mapping})"
   ]
  },
  {
   "cell_type": "code",
   "execution_count": null,
   "id": "e2d41c6c",
   "metadata": {},
   "outputs": [],
   "source": [
    "df.head()"
   ]
  },
  {
   "cell_type": "code",
   "execution_count": null,
   "id": "6c83ac4f",
   "metadata": {},
   "outputs": [],
   "source": [
    "# Fetch user_roles data\n",
    "user_roles_df = get_user_roles_table(blob_service_client, today_str)\n",
    "user_roles_df.head()"
   ]
  },
  {
   "cell_type": "code",
   "execution_count": null,
   "id": "a75569f7",
   "metadata": {},
   "outputs": [],
   "source": [
    "# Fetch roles data\n",
    "roles_df = get_roles_table(blob_service_client, today_str)\n",
    "roles_df.head()"
   ]
  },
  {
   "cell_type": "code",
   "execution_count": null,
   "id": "a362600b",
   "metadata": {},
   "outputs": [],
   "source": [
    "# Join user_roles with roles\n",
    "user_roles_df = user_roles_df.merge(\n",
    "    roles_df,\n",
    "    how=\"left\",\n",
    "    left_on=\"user_roles.roleId.$oid\",\n",
    "    right_on=\"roles._id.$oid\"\n",
    ")\n",
    "\n",
    "user_roles_df.head()"
   ]
  },
  {
   "cell_type": "code",
   "execution_count": null,
   "id": "33f1abbe",
   "metadata": {},
   "outputs": [],
   "source": [
    "# Join df with user_roles_df\n",
    "df = df.merge(\n",
    "    user_roles_df,\n",
    "    how=\"left\",\n",
    "    left_on=\"user.id\",\n",
    "    right_on=\"user_roles.user_id\"\n",
    ")\n",
    "\n",
    "df.head()"
   ]
  },
  {
   "cell_type": "code",
   "execution_count": null,
   "id": "46fae3b8",
   "metadata": {},
   "outputs": [],
   "source": [
    "user_roles_df = get_roles_by_user(user_roles_df)\n",
    "user_roles_df.head()"
   ]
  },
  {
   "cell_type": "code",
   "execution_count": null,
   "id": "e96aa3c2",
   "metadata": {},
   "outputs": [],
   "source": [
    "df[~df[\"roles.name\"].isnull()].head()"
   ]
  },
  {
   "cell_type": "code",
   "execution_count": null,
   "id": "67c769d3",
   "metadata": {},
   "outputs": [],
   "source": [
    "table_name = \"teams\"\n",
    "\n",
    "data_eu = get_invalid_json(\n",
    "    blob_service_client, \n",
    "    \"researchanalyticsinsights\", \n",
    "    f\"Unprocessed/Gtmhub MongoDB EU/{today_str}/{table_name}.json\"\n",
    ")\n",
    "data_us = get_invalid_json(\n",
    "    blob_service_client, \n",
    "    \"researchanalyticsinsights\", \n",
    "    f\"Unprocessed/Gtmhub MongoDB US/{today_str}/{table_name}.json\"\n",
    ")\n",
    "teams_df = pd.DataFrame(json_csv(data_eu + data_us))"
   ]
  },
  {
   "cell_type": "code",
   "execution_count": null,
   "id": "c31f1c17",
   "metadata": {},
   "outputs": [],
   "source": [
    "teams_df.head()"
   ]
  },
  {
   "cell_type": "code",
   "execution_count": null,
   "id": "875504c3",
   "metadata": {},
   "outputs": [],
   "source": [
    "pprint(teams_df[\"name\"].unique().tolist())"
   ]
  },
  {
   "cell_type": "code",
   "execution_count": null,
   "id": "808a75e5",
   "metadata": {},
   "outputs": [],
   "source": [
    "table_name = \"managers\"\n",
    "\n",
    "data_eu = get_invalid_json(\n",
    "    blob_service_client, \n",
    "    \"researchanalyticsinsights\", \n",
    "    f\"Unprocessed/Gtmhub MongoDB EU/{today_str}/{table_name}.json\"\n",
    ")\n",
    "data_us = get_invalid_json(\n",
    "    blob_service_client, \n",
    "    \"researchanalyticsinsights\", \n",
    "    f\"Unprocessed/Gtmhub MongoDB US/{today_str}/{table_name}.json\"\n",
    ")\n",
    "\n",
    "managers_df = pd.DataFrame(json_csv(data_eu + data_us))"
   ]
  },
  {
   "cell_type": "code",
   "execution_count": null,
   "id": "51ffec7e",
   "metadata": {},
   "outputs": [],
   "source": [
    "managers_df.head()"
   ]
  },
  {
   "cell_type": "code",
   "execution_count": null,
   "id": "7ace800d",
   "metadata": {},
   "outputs": [],
   "source": [
    "manager_ids = managers_df[\"userId.$oid\"].tolist()\n",
    "\n",
    "df[\"user.is_manager\"] = df[\"user.id\"].map(lambda x: True if x in manager_ids else False)"
   ]
  },
  {
   "cell_type": "code",
   "execution_count": null,
   "id": "a5e0d29e",
   "metadata": {},
   "outputs": [],
   "source": [
    "df[df[\"user.is_manager\"] == False].head()"
   ]
  },
  {
   "cell_type": "code",
   "execution_count": null,
   "id": "71b29cce",
   "metadata": {},
   "outputs": [],
   "source": [
    "df[\"roles.name\"] = df[\"roles.name\"].fillna(\"\")\n",
    "df[\"user.is_okr_champion\"] = df[\"roles.name\"].map(lambda role: True if \"champion\" in (_role := role.lower()) or (\"okr\" in _role and \"champion\" in _role) else False)"
   ]
  },
  {
   "cell_type": "code",
   "execution_count": null,
   "id": "6f2c594c",
   "metadata": {},
   "outputs": [],
   "source": [
    "df[df[\"user.is_okr_champion\"] == True].head()"
   ]
  },
  {
   "cell_type": "code",
   "execution_count": null,
   "id": "1095eba4",
   "metadata": {},
   "outputs": [],
   "source": [
    "# Drop unnecessary columns\n",
    "\"\"\"\n",
    "Should I drop all id's?\n",
    "account.id\n",
    "user.id\n",
    "\n",
    "user_roles._id.$oid\n",
    "user_roles.userId.$oid\n",
    "user_roles.roleId.$oid\n",
    "user_roles.accountId.$oid\n",
    "roles._id.$oid\n",
    "roles.accountId.$oid\n",
    "\n",
    "\"\"\"\n",
    "\n",
    "df = df[\n",
    "    df.columns[\n",
    "        ~df.columns.isin(\n",
    "            [\n",
    "                \"account.id\",\n",
    "                \"user.id\",\n",
    "                \"user_roles._id.$oid\",\n",
    "                \"user_roles.userId.$oid\",\n",
    "                \"user_roles.roleId.$oid\",\n",
    "                \"user_roles.accountId.$oid\",\n",
    "                \"roles._id.$oid\",\n",
    "                \"roles.accountId.$oid\"\n",
    "            ]\n",
    "        )\n",
    "    ]\n",
    "]"
   ]
  },
  {
   "cell_type": "code",
   "execution_count": null,
   "id": "50afa5e0",
   "metadata": {},
   "outputs": [],
   "source": [
    "df.info()"
   ]
  },
  {
   "cell_type": "code",
   "execution_count": null,
   "id": "4e2cefa9",
   "metadata": {},
   "outputs": [],
   "source": [
    "# Format datetime fields as string for output file\n",
    "df[\"account.date_created\"] = df[\"account.date_created\"].dt.strftime(\"%Y/%m/%d\")\n",
    "df[\"user.date_created\"] = df[\"user.date_created\"].dt.strftime(\"%Y/%m/%d\")"
   ]
  },
  {
   "cell_type": "code",
   "execution_count": null,
   "id": "d582b13e",
   "metadata": {},
   "outputs": [],
   "source": [
    "df.shape"
   ]
  },
  {
   "cell_type": "code",
   "execution_count": null,
   "id": "ae57bf19",
   "metadata": {},
   "outputs": [],
   "source": [
    "# Save data to csv file\n",
    "# df.to_csv(f\"users_60+days_data_{datetime_string(today, '-')}.csv\", index=False)"
   ]
  }
 ],
 "metadata": {
  "interpreter": {
   "hash": "93196f6a133e33e3d2e312f32c27b0e66cf683801d1f9a9fe5b4be387ff6630f"
  },
  "kernelspec": {
   "display_name": "Python 3.8.10 ('venv': venv)",
   "language": "python",
   "name": "python3"
  },
  "language_info": {
   "codemirror_mode": {
    "name": "ipython",
    "version": 3
   },
   "file_extension": ".py",
   "mimetype": "text/x-python",
   "name": "python",
   "nbconvert_exporter": "python",
   "pygments_lexer": "ipython3",
   "version": "3.8.10"
  }
 },
 "nbformat": 4,
 "nbformat_minor": 5
}
