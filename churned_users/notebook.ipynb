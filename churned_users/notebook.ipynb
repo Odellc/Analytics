{
 "cells": [
  {
   "cell_type": "code",
   "execution_count": 1,
   "id": "b25d4443",
   "metadata": {},
   "outputs": [],
   "source": [
    "import os\n",
    "import sys\n",
    "from random import sample\n",
    "from azure.storage.blob import BlobServiceClient, BlobClient, ContainerClient, __version__\n",
    "from dotenv import load_dotenv\n",
    "import pandas as pd\n",
    "import datetime\n",
    "from dateutil import parser as date_parser\n",
    "import json\n",
    "from pprint import pprint\n",
    "from functions_2 import *"
   ]
  },
  {
   "cell_type": "code",
   "execution_count": 2,
   "id": "9e2fc3b2",
   "metadata": {},
   "outputs": [],
   "source": [
    "# Environment vars\n",
    "load_dotenv()\n",
    "connect_str = os.getenv('AZURE_STORAGE_CONNECTION_STRING')"
   ]
  },
  {
   "cell_type": "code",
   "execution_count": 3,
   "id": "27b27c97",
   "metadata": {},
   "outputs": [],
   "source": [
    "# Hardcoded date\n",
    "today = datetime.datetime(year=2022, month=4, day=7)\n",
    "today_str = datetime_string(today, \"/\")"
   ]
  },
  {
   "cell_type": "code",
   "execution_count": 4,
   "id": "a9825fac",
   "metadata": {},
   "outputs": [],
   "source": [
    "# Instantiate blob service client\n",
    "try:\n",
    "    blob_service_client = BlobServiceClient.from_connection_string(connect_str)\n",
    "except Exception as e:\n",
    "    print(f'Unable to connect to BlobServiceClient: {e}')"
   ]
  },
  {
   "cell_type": "code",
   "execution_count": 5,
   "id": "94a1e28c",
   "metadata": {},
   "outputs": [
    {
     "name": "stdout",
     "output_type": "stream",
     "text": [
      "Fetching user data for 2022/04/07...\n",
      "<class 'pandas.core.frame.DataFrame'>\n",
      "Int64Index: 88329 entries, 3 to 90338\n",
      "Data columns (total 10 columns):\n",
      " #   Column                             Non-Null Count  Dtype  \n",
      "---  ------                             --------------  -----  \n",
      " 0   _id.$oid                           88329 non-null  object \n",
      " 1   accountId.$oid                     88329 non-null  object \n",
      " 2   language                           88289 non-null  float64\n",
      " 3   dateCreated.$date                  88329 non-null  int64  \n",
      " 4   email                              88329 non-null  object \n",
      " 5   auth0Cache.usermetadata.lastName   88248 non-null  object \n",
      " 6   auth0Cache.usermetadata.firstName  88256 non-null  object \n",
      " 7   subscriptionType                   88329 non-null  object \n",
      " 8   isPrimary                          88329 non-null  bool   \n",
      " 9   auth0Cache.usermetadata.demo       161 non-null    object \n",
      "dtypes: bool(1), float64(1), int64(1), object(7)\n",
      "memory usage: 6.8+ MB\n",
      "None\n",
      "Fetching account data...\n",
      "Fetching Chargebee data...\n",
      "(155, 41)\n",
      "[False]\n",
      "['account|_id.$oid', 'account|name', 'account|domain', 'account|isActive', 'account|type', 'account|trialEnds.$date', 'account|dateCreated.$date', 'account|ownerId.$oid', 'account|edition', 'account|subscriptionId', 'account|planId', 'account|subscription.mrr', 'account|billingSystem', 'account|language', 'account|modifiedById.$oid', 'account|modifiedAt.$date', 'chargebee|id', 'chargebee|currency_code', 'chargebee|trial_end', 'chargebee|customer_id', 'chargebee|status', 'chargebee|trial_start', 'chargebee|created_at', 'chargebee|started_at', 'chargebee|cancelled_at', 'chargebee|cancel_reason', 'chargebee|updated_at', 'chargebee|mrr', 'chargebee|deleted', 'chargebee|activated_at', 'chargebee|shipping_address.email', 'chargebee|shipping_address.phone', 'chargebee|shipping_address.line1', 'chargebee|shipping_address.city', 'chargebee|shipping_address.country', 'chargebee|shipping_address.first_name', 'chargebee|shipping_address.last_name', 'chargebee|invoice_notes', 'chargebee|exchange_rate', 'chargebee|base_currency_code', 'chargebee|shipping_address.company']\n",
      "[1.0]\n",
      "[nan, 'not_paid', 'no_card']\n"
     ]
    },
    {
     "ename": "SystemExit",
     "evalue": "",
     "output_type": "error",
     "traceback": [
      "An exception has occurred, use %tb to see the full traceback.\n",
      "\u001b[1;31mSystemExit\u001b[0m\n"
     ]
    },
    {
     "name": "stderr",
     "output_type": "stream",
     "text": [
      "c:\\Users\\Public\\python_scripts\\closing_okrs\\venv\\lib\\site-packages\\IPython\\core\\interactiveshell.py:3348: UserWarning: To exit: use 'exit', 'quit', or Ctrl-D.\n",
      "  warn(\"To exit: use 'exit', 'quit', or Ctrl-D.\", stacklevel=1)\n"
     ]
    }
   ],
   "source": [
    "# Fetching users, accounts, and chargebee subscriptions.\n",
    "# Merging all tables into one.\n",
    "df = get_users_accounts_subscriptions_data(blob_service_client, today_str)"
   ]
  },
  {
   "cell_type": "code",
   "execution_count": null,
   "id": "d6c444fa",
   "metadata": {},
   "outputs": [],
   "source": [
    "df.shape"
   ]
  },
  {
   "cell_type": "code",
   "execution_count": null,
   "id": "495f95ff",
   "metadata": {},
   "outputs": [],
   "source": [
    "df[\"user|dateCreated.$date\"].head()\n",
    "df[df[\"user|dateCreated.$date\"] != None].head()"
   ]
  },
  {
   "cell_type": "code",
   "execution_count": null,
   "id": "b245edb7",
   "metadata": {},
   "outputs": [],
   "source": [
    "# Last 60 days\n",
    "# threshold_date = today - datetime.timedelta(days=60)"
   ]
  },
  {
   "cell_type": "code",
   "execution_count": null,
   "id": "e9552c93",
   "metadata": {},
   "outputs": [],
   "source": [
    "# Filter on users created at least 60 days ago\n",
    "# df = df[df[\"user|dateCreated.$date\"] <= threshold_date]"
   ]
  },
  {
   "cell_type": "code",
   "execution_count": null,
   "id": "4786a627",
   "metadata": {},
   "outputs": [],
   "source": [
    "def merge_col_values(row):\n",
    "    print(row)\n",
    "\n",
    "    new_value = row\n",
    "\n",
    "    # row[\"user|auth0Cache.usermetadata.firstName\"] + \"|\" + row[\"user|auth0Cache.usermetadata.lastName\"]\n",
    "\n",
    "    return new_value"
   ]
  },
  {
   "cell_type": "code",
   "execution_count": null,
   "id": "1df8d7db",
   "metadata": {},
   "outputs": [],
   "source": [
    "# df[\"temp\"] = df.apply(\n",
    "#     lambda row: merge_col_values\n",
    "# )"
   ]
  },
  {
   "cell_type": "code",
   "execution_count": null,
   "id": "c4a34950",
   "metadata": {},
   "outputs": [],
   "source": [
    "# Read in CSDA data\n",
    "csda_df = pd.read_csv(os.path.join(os.pardir, \"shared_data\", \"csda_salesforce_export.csv\"))\n",
    "\n",
    "# Rename columns\n",
    "csda_df.columns = [\n",
    "    \"_\".join(column.lower().split())\n",
    "    for column in csda_df.columns\n",
    "]\n",
    "\n",
    "# Add prefix for clarity after join\n",
    "csda_df = csda_df.add_prefix(\"salesforce|\")"
   ]
  },
  {
   "cell_type": "code",
   "execution_count": null,
   "id": "d7542e25",
   "metadata": {},
   "outputs": [],
   "source": [
    "# Left join CSDA table with main dataframe (df)\n",
    "df = df.merge(\n",
    "    csda_df,\n",
    "    how=\"left\",\n",
    "    left_on=\"account|_id.$oid\",\n",
    "    right_on=\"salesforce|chargebee_id\"\n",
    ")"
   ]
  },
  {
   "cell_type": "code",
   "execution_count": null,
   "id": "625f1f3f",
   "metadata": {},
   "outputs": [],
   "source": [
    "# Get Hubspot data\n",
    "hubspot_df = get_hubspot_data()"
   ]
  },
  {
   "cell_type": "code",
   "execution_count": null,
   "id": "8f2b86f9",
   "metadata": {},
   "outputs": [],
   "source": [
    "# Merge users with HubSpot data\n",
    "df = df.merge(\n",
    "    hubspot_df,\n",
    "    how=\"left\",\n",
    "    left_on=\"user|email\",\n",
    "    right_on=\"hubspot|email\"\n",
    ")"
   ]
  },
  {
   "cell_type": "code",
   "execution_count": null,
   "id": "17363756",
   "metadata": {},
   "outputs": [],
   "source": [
    "# Add CSDA column\n",
    "df[\"salesforce|team_member_name\"] = df[\"salesforce|team_member_name\"].fillna(\"-\")\n",
    "df[\"salesforce|is_csda\"] = df[\"salesforce|team_member_name\"].map(\n",
    "    lambda x: True if x != \"-\" else False\n",
    ")"
   ]
  },
  {
   "cell_type": "code",
   "execution_count": null,
   "id": "4de7efa1",
   "metadata": {},
   "outputs": [],
   "source": [
    "# Rename columns intended to be kept\n",
    "column_name_remapping = {\n",
    "    \"account|_id.$oid\": \"account.id\",\n",
    "    \"account|name\": \"account.name\",\n",
    "    \"account|dateCreated.$date\": \"account.date_created\",\n",
    "    \"chargebee|status\": \"chargebee.status\",\n",
    "    \"user|_id.$oid\": \"user.id\",\n",
    "    \"user|language\": \"user.language\",\n",
    "    \"user|dateCreated.$date\": \"user.date_created\",\n",
    "    \"user|email\": \"user.email\",\n",
    "    \"user|auth0Cache.usermetadata.lastName\": \"user.last_name\",\n",
    "    \"user|auth0Cache.usermetadata.firstName\": \"user.first_name\",\n",
    "    \"account|users_count\": \"account.users_count\",\n",
    "    \"hubspot|jobtitle\": \"hubspot.job_title\",\n",
    "    \"hubspot|industry\": \"hubspot.industry\",\n",
    "    \"hubspot|numberofemployees\": \"hubspot.number_of_employees\",\n",
    "    \"salesforce|is_csda\": \"salesforce.is_csda\",\n",
    "    \"hubspot|country\": \"hubspot.country\"\n",
    "}\n",
    "\n",
    "# Keep only the keys of mapping columns\n",
    "df = df[column_name_remapping.keys()]\n",
    "\n",
    "# Change names of columns based on mapping\n",
    "df = df.rename(columns=column_name_remapping)"
   ]
  },
  {
   "cell_type": "code",
   "execution_count": null,
   "id": "d3623669",
   "metadata": {},
   "outputs": [],
   "source": [
    "# Change language code to categorical\n",
    "language_code_mapping = {\n",
    "    0: \"English\",\n",
    "    1: \"German\",\n",
    "    2: \"Chinese\",\n",
    "    3: \"Bulgarian\",\n",
    "    4: \"Spanish\",\n",
    "    5: \"French\",\n",
    "    6: \"Portuguese\"\n",
    "}\n",
    "\n",
    "df = df.replace({\"user.language\": language_code_mapping})"
   ]
  },
  {
   "cell_type": "code",
   "execution_count": null,
   "id": "e2d41c6c",
   "metadata": {},
   "outputs": [],
   "source": [
    "df.head()"
   ]
  },
  {
   "cell_type": "code",
   "execution_count": null,
   "id": "6c83ac4f",
   "metadata": {},
   "outputs": [],
   "source": [
    "# Fetch user_roles data\n",
    "user_roles_df = get_user_roles_table(blob_service_client, today_str)\n",
    "user_roles_df.head()"
   ]
  },
  {
   "cell_type": "code",
   "execution_count": null,
   "id": "a75569f7",
   "metadata": {},
   "outputs": [],
   "source": [
    "# Fetch roles data\n",
    "roles_df = get_roles_table(blob_service_client, today_str)\n",
    "roles_df.head()"
   ]
  },
  {
   "cell_type": "code",
   "execution_count": null,
   "id": "a362600b",
   "metadata": {},
   "outputs": [],
   "source": [
    "# Join user_roles with roles\n",
    "user_roles_df = user_roles_df.merge(\n",
    "    roles_df,\n",
    "    how=\"left\",\n",
    "    left_on=\"user_roles.roleId.$oid\",\n",
    "    right_on=\"roles._id.$oid\"\n",
    ")\n",
    "\n",
    "user_roles_df.head()"
   ]
  },
  {
   "cell_type": "code",
   "execution_count": null,
   "id": "ea81239c",
   "metadata": {},
   "outputs": [],
   "source": [
    "unique_user_roles_df = get_roles_by_user(user_roles_df)\n",
    "unique_user_roles_df.head()"
   ]
  },
  {
   "cell_type": "code",
   "execution_count": null,
   "id": "33f1abbe",
   "metadata": {},
   "outputs": [],
   "source": [
    "# Join df with user_roles_df\n",
    "df = df.merge(\n",
    "    unique_user_roles_df,\n",
    "    how=\"left\",\n",
    "    left_on=\"user.id\",\n",
    "    right_on=\"user_roles.userId.$oid\"\n",
    ")\n",
    "\n",
    "df.head()"
   ]
  },
  {
   "cell_type": "code",
   "execution_count": null,
   "id": "71b29cce",
   "metadata": {},
   "outputs": [],
   "source": [
    "df[\"roles\"] = df[\"roles\"].fillna(\"\")\n",
    "# df[\"user.is_okr_champion\"] = df[\"roles\"].map(lambda role: True if \"champion\" in (_role := role.lower()) or (\"okr\" in _role and \"champion\" in _role) else False)"
   ]
  },
  {
   "cell_type": "code",
   "execution_count": null,
   "id": "1095eba4",
   "metadata": {},
   "outputs": [],
   "source": [
    "# Drop unnecessary columns\n",
    "\"\"\"\n",
    "Should I drop all id's?\n",
    "account.id\n",
    "user.id\n",
    "\n",
    "user_roles._id.$oid\n",
    "user_roles.userId.$oid\n",
    "user_roles.roleId.$oid\n",
    "user_roles.accountId.$oid\n",
    "roles._id.$oid\n",
    "roles.accountId.$oid\n",
    "\n",
    "\"\"\"\n",
    "\n",
    "df = df[\n",
    "    df.columns[\n",
    "        ~df.columns.isin(\n",
    "            [\n",
    "                # \"account.id\",\n",
    "                # \"user.id\",\n",
    "                \"user_roles._id.$oid\",\n",
    "                \"user_roles.userId.$oid\",\n",
    "                \"user_roles.roleId.$oid\",\n",
    "                \"user_roles.accountId.$oid\",\n",
    "                \"roles._id.$oid\",\n",
    "                \"roles.accountId.$oid\"\n",
    "            ]\n",
    "        )\n",
    "    ]\n",
    "]"
   ]
  },
  {
   "cell_type": "code",
   "execution_count": null,
   "id": "8ae67937",
   "metadata": {},
   "outputs": [],
   "source": [
    "df[\"user.date_created\"] = df[\"user.date_created\"].astype(\"datetime64[ns]\")\n",
    "df[\"account.date_created\"] = df[\"account.date_created\"].astype(\"datetime64[ns]\")"
   ]
  },
  {
   "cell_type": "code",
   "execution_count": null,
   "id": "4e2cefa9",
   "metadata": {},
   "outputs": [],
   "source": [
    "# Format datetime fields as string for output file\n",
    "df[\"account.date_created\"] = df[\"account.date_created\"].dt.strftime(\"%Y/%m/%d\")\n",
    "df[\"user.date_created\"] = df[\"user.date_created\"].dt.strftime(\"%Y/%m/%d\")"
   ]
  },
  {
   "cell_type": "code",
   "execution_count": null,
   "id": "d582b13e",
   "metadata": {},
   "outputs": [],
   "source": [
    "df.shape"
   ]
  },
  {
   "cell_type": "code",
   "execution_count": null,
   "id": "ae57bf19",
   "metadata": {},
   "outputs": [],
   "source": [
    "# Save data to csv file\n",
    "# df.to_csv(f\"churned_users_180+days_data_{datetime_string(today, '-')} as of {datetime_string(datetime.datetime.now(), '-')}.csv\", index=False)"
   ]
  }
 ],
 "metadata": {
  "interpreter": {
   "hash": "93196f6a133e33e3d2e312f32c27b0e66cf683801d1f9a9fe5b4be387ff6630f"
  },
  "kernelspec": {
   "display_name": "Python 3 (ipykernel)",
   "language": "python",
   "name": "python3"
  },
  "language_info": {
   "codemirror_mode": {
    "name": "ipython",
    "version": 3
   },
   "file_extension": ".py",
   "mimetype": "text/x-python",
   "name": "python",
   "nbconvert_exporter": "python",
   "pygments_lexer": "ipython3",
   "version": "3.8.10"
  }
 },
 "nbformat": 4,
 "nbformat_minor": 5
}
