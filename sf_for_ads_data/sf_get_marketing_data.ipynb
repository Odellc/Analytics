{
 "cells": [
  {
   "cell_type": "markdown",
   "metadata": {},
   "source": [
    "# Get Salesforce Data to Join with Marketing Data"
   ]
  },
  {
   "cell_type": "markdown",
   "metadata": {},
   "source": [
    "## Set up and load data"
   ]
  },
  {
   "cell_type": "code",
   "execution_count": 97,
   "metadata": {},
   "outputs": [],
   "source": [
    "from toolbox.datalake import DataLake\n",
    "from dotenv import load_dotenv\n",
    "import pandas as pd\n",
    "import datetime\n",
    "import json\n",
    "import os"
   ]
  },
  {
   "cell_type": "code",
   "execution_count": 6,
   "metadata": {},
   "outputs": [],
   "source": [
    "load_dotenv()\n",
    "CONNECT_STR = os.getenv('AZURE_STORAGE_CONNECTION_STRING')"
   ]
  },
  {
   "cell_type": "code",
   "execution_count": 7,
   "metadata": {},
   "outputs": [],
   "source": [
    "dl = DataLake(CONNECT_STR)"
   ]
  },
  {
   "cell_type": "code",
   "execution_count": 8,
   "metadata": {},
   "outputs": [],
   "source": [
    "BASE_SF = 'Unprocessed/Salesforce/2022/04/14'"
   ]
  },
  {
   "cell_type": "code",
   "execution_count": 9,
   "metadata": {},
   "outputs": [],
   "source": [
    "leads = dl.get_json_lines_as_df(f'{BASE_SF}/Lead.json')\n",
    "contacts = dl.get_json_lines_as_df(f'{BASE_SF}/Contact.json')\n",
    "oppconroles = dl.get_json_lines_as_df(f'{BASE_SF}/OpportunityContactRole.json')\n",
    "opportunities = dl.get_json_lines_as_df(f'{BASE_SF}/Opportunity.json')\n",
    "tasks = dl.get_json_lines_as_df(f'{BASE_SF}/Task.json')\n",
    "events = dl.get_json_lines_as_df(f'{BASE_SF}/Event.json')"
   ]
  },
  {
   "cell_type": "markdown",
   "metadata": {},
   "source": [
    "## Leads and Contacts\n",
    "\n",
    "1. Remove unneeded columns.\n",
    "2. Merge Leads and Contacts to \"prospects\" table.\n",
    "3. Coalesce duplicate columns."
   ]
  },
  {
   "cell_type": "code",
   "execution_count": 14,
   "metadata": {},
   "outputs": [],
   "source": [
    "req_lead_fields = ['Id', 'Status', 'OwnerId', 'IsConverted', 'ConvertedDate', 'ConvertedAccountId', 'ConvertedContactId', 'ConvertedOpportunityId', 'CreatedDate', 'Chargebee_Plan_Id__c', 'Chargebee_Subscription_Status__c', 'Became_a_marketing_qualified_lead_date__c', 'Account_Name__c', 'HubSpot_Lead_Score__c', 'Account_Number_of_Lost_Opportunities__c', 'Account_Number_of_Open_Opportunities__c', 'Account_Number_of_Opportunities__c', 'Account_Number_of_Won_Opportunities__c', 'Account_has_CS_TS__c', 'Customer_ID__c', 'Subscription_ID__c', 'Subscription_Status__c', 'Subscription_activated_at__c', 'Subscription_cancelled_at__c', 'Subscription_cf_signed_users_count__c', 'Subscription_cf_users_count__c', 'Subscription_current_term_end__c', 'Subscription_trial_start__c', 'Total_Customer_MRR__c']\n",
    "req_contact_fields = ['Id', 'AccountId', 'OwnerId', 'CreatedDate', 'Chargebee_Plan_Id__c', 'Chargebee_Subscription_Status__c', 'Gtmhub_Edition_ID__c', 'HubSpot_Lead_Score__c', 'Account_Number_of_Lost_Opportunities__c', 'Account_Number_of_Open_Opportunities__c', 'Account_Number_of_Opportunities__c', 'Account_Number_of_Won_Opportunities__c', 'Account_has_CS_TS__c', 'Customer_ID__c', 'Subscription_ID__c', 'Subscription_Status__c', 'Subscription_activated_at__c', 'Subscription_cancelled_at__c', 'Subscription_cf_signed_users_count__c', 'Subscription_cf_users_count__c', 'Subscription_current_term_end__c', 'Subscription_trial_start__c', 'Total_Customer_MRR__c']"
   ]
  },
  {
   "cell_type": "code",
   "execution_count": 15,
   "metadata": {},
   "outputs": [],
   "source": [
    "leads = leads.loc[:, req_lead_fields]\n",
    "contacts = contacts.loc[:, req_contact_fields]"
   ]
  },
  {
   "cell_type": "code",
   "execution_count": 17,
   "metadata": {},
   "outputs": [],
   "source": [
    "leads = leads.rename({'Account_Name__c': 'AccountId'}, axis=1)"
   ]
  },
  {
   "cell_type": "code",
   "execution_count": 18,
   "metadata": {},
   "outputs": [],
   "source": [
    "prospects = contacts.merge(leads, how='outer', left_on='Id', right_on='ConvertedContactId')"
   ]
  },
  {
   "cell_type": "code",
   "execution_count": 22,
   "metadata": {},
   "outputs": [],
   "source": [
    "# Get matching columns\n",
    "x_cols = [x for x in prospects.columns if x.endswith('_x')]\n",
    "y_cols = [x for x in prospects.columns if x.endswith('_y')]\n",
    "matching = {}\n",
    "for k in x_cols:\n",
    "    for v in y_cols:\n",
    "        if k.replace('_x', '') == v.replace('_y', ''):\n",
    "            matching[k] = v\n",
    "            break\n",
    "        else:\n",
    "            continue\n",
    "\n",
    "# Combine matching columns into one column\n",
    "for i in matching.keys():\n",
    "    col = i.replace('_x', '')\n",
    "    prospects.loc[:, col] = prospects[i].combine_first(prospects[matching[i]])\n",
    "    if i.endswith('_x'):\n",
    "        prospects = prospects.drop([i, matching[i]], axis=1)\n",
    "    else:\n",
    "        prospects = prospects.drop([matching[i]], axis=1)"
   ]
  },
  {
   "cell_type": "code",
   "execution_count": 24,
   "metadata": {},
   "outputs": [
    {
     "name": "stdout",
     "output_type": "stream",
     "text": [
      "<class 'pandas.core.frame.DataFrame'>\n",
      "Int64Index: 288893 entries, 0 to 288892\n",
      "Data columns (total 30 columns):\n",
      " #   Column                                     Non-Null Count   Dtype  \n",
      "---  ------                                     --------------   -----  \n",
      " 0   Gtmhub_Edition_ID__c                       594 non-null     object \n",
      " 1   Status                                     249422 non-null  object \n",
      " 2   IsConverted                                249422 non-null  object \n",
      " 3   ConvertedDate                              726 non-null     object \n",
      " 4   ConvertedAccountId                         724 non-null     object \n",
      " 5   ConvertedContactId                         724 non-null     object \n",
      " 6   ConvertedOpportunityId                     602 non-null     object \n",
      " 7   Became_a_marketing_qualified_lead_date__c  65696 non-null   object \n",
      " 8   Id                                         288893 non-null  object \n",
      " 9   AccountId                                  165118 non-null  object \n",
      " 10  OwnerId                                    288893 non-null  object \n",
      " 11  CreatedDate                                288893 non-null  object \n",
      " 12  Chargebee_Plan_Id__c                       32829 non-null   object \n",
      " 13  Chargebee_Subscription_Status__c           32902 non-null   object \n",
      " 14  HubSpot_Lead_Score__c                      236512 non-null  float64\n",
      " 15  Account_Number_of_Lost_Opportunities__c    288893 non-null  float64\n",
      " 16  Account_Number_of_Open_Opportunities__c    288893 non-null  float64\n",
      " 17  Account_Number_of_Opportunities__c         288893 non-null  float64\n",
      " 18  Account_Number_of_Won_Opportunities__c     288893 non-null  float64\n",
      " 19  Account_has_CS_TS__c                       288893 non-null  object \n",
      " 20  Customer_ID__c                             35804 non-null   object \n",
      " 21  Subscription_ID__c                         35791 non-null   object \n",
      " 22  Subscription_Status__c                     35792 non-null   object \n",
      " 23  Subscription_activated_at__c               2118 non-null    object \n",
      " 24  Subscription_cancelled_at__c               33516 non-null   object \n",
      " 25  Subscription_cf_signed_users_count__c      35804 non-null   float64\n",
      " 26  Subscription_cf_users_count__c             35804 non-null   float64\n",
      " 27  Subscription_current_term_end__c           2118 non-null    object \n",
      " 28  Subscription_trial_start__c                35615 non-null   object \n",
      " 29  Total_Customer_MRR__c                      35781 non-null   float64\n",
      "dtypes: float64(8), object(22)\n",
      "memory usage: 68.3+ MB\n"
     ]
    }
   ],
   "source": [
    "prospects.info()"
   ]
  },
  {
   "cell_type": "markdown",
   "metadata": {},
   "source": [
    "## Opportunities & OpportunityContactRoles\n",
    "\n",
    "1. Remove unneeded columns.\n",
    "2. Merge opportunity data on contact relationship data."
   ]
  },
  {
   "cell_type": "code",
   "execution_count": 26,
   "metadata": {},
   "outputs": [],
   "source": [
    "opportunities = opportunities.loc[:, ['Id', 'AccountId', 'RecordTypeId', 'IsClosed', 'IsWon', 'Amount', 'CloseDate', 'Type', 'OwnerId']]"
   ]
  },
  {
   "cell_type": "code",
   "execution_count": 28,
   "metadata": {},
   "outputs": [],
   "source": [
    "oppconroles = oppconroles.loc[:, ['Id', 'OpportunityId', 'ContactId']]"
   ]
  },
  {
   "cell_type": "code",
   "execution_count": 29,
   "metadata": {},
   "outputs": [],
   "source": [
    "opps = oppconroles.merge(opportunities, how='left', left_on='OpportunityId', right_on='Id')"
   ]
  },
  {
   "cell_type": "code",
   "execution_count": 31,
   "metadata": {},
   "outputs": [],
   "source": [
    "opps = opps.rename({\n",
    "    'Id_x': 'OppConRoleId'\n",
    "}, axis=1).drop(['Id_y'], axis=1)"
   ]
  },
  {
   "cell_type": "code",
   "execution_count": 32,
   "metadata": {},
   "outputs": [
    {
     "data": {
      "text/html": [
       "<div>\n",
       "<style scoped>\n",
       "    .dataframe tbody tr th:only-of-type {\n",
       "        vertical-align: middle;\n",
       "    }\n",
       "\n",
       "    .dataframe tbody tr th {\n",
       "        vertical-align: top;\n",
       "    }\n",
       "\n",
       "    .dataframe thead th {\n",
       "        text-align: right;\n",
       "    }\n",
       "</style>\n",
       "<table border=\"1\" class=\"dataframe\">\n",
       "  <thead>\n",
       "    <tr style=\"text-align: right;\">\n",
       "      <th></th>\n",
       "      <th>OppConRoleId</th>\n",
       "      <th>OpportunityId</th>\n",
       "      <th>ContactId</th>\n",
       "      <th>AccountId</th>\n",
       "      <th>RecordTypeId</th>\n",
       "      <th>IsClosed</th>\n",
       "      <th>IsWon</th>\n",
       "      <th>Amount</th>\n",
       "      <th>CloseDate</th>\n",
       "      <th>Type</th>\n",
       "      <th>OwnerId</th>\n",
       "    </tr>\n",
       "  </thead>\n",
       "  <tbody>\n",
       "    <tr>\n",
       "      <th>0</th>\n",
       "      <td>00K8a00000XJm4bEAD</td>\n",
       "      <td>0068a00001GdcT8AAJ</td>\n",
       "      <td>0038a00002rQon6AAC</td>\n",
       "      <td>0018a00001nrAeLAAU</td>\n",
       "      <td>0124W0000007bPpQAI</td>\n",
       "      <td>False</td>\n",
       "      <td>False</td>\n",
       "      <td>100000.0</td>\n",
       "      <td>2022-12-29T00:00:00</td>\n",
       "      <td>New Business</td>\n",
       "      <td>0054W00000Ce45HQAR</td>\n",
       "    </tr>\n",
       "    <tr>\n",
       "      <th>1</th>\n",
       "      <td>00K8a00000XJniXEAT</td>\n",
       "      <td>0068a00001GdeqOAAR</td>\n",
       "      <td>0038a00002rQxZzAAK</td>\n",
       "      <td>0018a00001nrB2gAAE</td>\n",
       "      <td>0124W0000007bPpQAI</td>\n",
       "      <td>False</td>\n",
       "      <td>False</td>\n",
       "      <td>50000.0</td>\n",
       "      <td>2022-06-30T00:00:00</td>\n",
       "      <td>None</td>\n",
       "      <td>0054W00000E5aXmQAJ</td>\n",
       "    </tr>\n",
       "    <tr>\n",
       "      <th>2</th>\n",
       "      <td>00K8a00000XJpSvEAL</td>\n",
       "      <td>0068a00001Gdi6IAAR</td>\n",
       "      <td>0038a00002rR8K4AAK</td>\n",
       "      <td>0018a00001nrBWdAAM</td>\n",
       "      <td>0124W0000007bPpQAI</td>\n",
       "      <td>False</td>\n",
       "      <td>False</td>\n",
       "      <td>50000.0</td>\n",
       "      <td>2022-06-30T00:00:00</td>\n",
       "      <td>New Business</td>\n",
       "      <td>0058a00000INI4UAAX</td>\n",
       "    </tr>\n",
       "    <tr>\n",
       "      <th>3</th>\n",
       "      <td>00K8a00000XJjFgEAL</td>\n",
       "      <td>0068a00001GdX03AAF</td>\n",
       "      <td>0038a00002qcCjNAAU</td>\n",
       "      <td>0018a00001nr6rJAAQ</td>\n",
       "      <td>0124W0000007bPpQAI</td>\n",
       "      <td>False</td>\n",
       "      <td>False</td>\n",
       "      <td>15000.0</td>\n",
       "      <td>2022-08-31T00:00:00</td>\n",
       "      <td>New Business</td>\n",
       "      <td>0058a00000INI4ZAAX</td>\n",
       "    </tr>\n",
       "    <tr>\n",
       "      <th>4</th>\n",
       "      <td>00K8a00000XJjX1EAL</td>\n",
       "      <td>0068a00001GdXOyAAN</td>\n",
       "      <td>0038a00002qcD6RAAU</td>\n",
       "      <td>0018a00001nr6teAAA</td>\n",
       "      <td>0124W0000007bPpQAI</td>\n",
       "      <td>False</td>\n",
       "      <td>False</td>\n",
       "      <td>50000.0</td>\n",
       "      <td>2022-08-26T00:00:00</td>\n",
       "      <td>New Business</td>\n",
       "      <td>0054W00000D8NSsQAN</td>\n",
       "    </tr>\n",
       "    <tr>\n",
       "      <th>...</th>\n",
       "      <td>...</td>\n",
       "      <td>...</td>\n",
       "      <td>...</td>\n",
       "      <td>...</td>\n",
       "      <td>...</td>\n",
       "      <td>...</td>\n",
       "      <td>...</td>\n",
       "      <td>...</td>\n",
       "      <td>...</td>\n",
       "      <td>...</td>\n",
       "      <td>...</td>\n",
       "    </tr>\n",
       "    <tr>\n",
       "      <th>1583</th>\n",
       "      <td>00K8a00000Vtg2pEAB</td>\n",
       "      <td>0068a00001GjkgKAAR</td>\n",
       "      <td>0038a00002qLgMSAA0</td>\n",
       "      <td>0014W00002Fh9PwQAJ</td>\n",
       "      <td>0124W0000007bPuQAI</td>\n",
       "      <td>False</td>\n",
       "      <td>False</td>\n",
       "      <td>642600.0</td>\n",
       "      <td>2025-03-31T00:00:00</td>\n",
       "      <td>Existing Business</td>\n",
       "      <td>0058a00000INIFDAA5</td>\n",
       "    </tr>\n",
       "    <tr>\n",
       "      <th>1584</th>\n",
       "      <td>00K8a00000Vtg2oEAB</td>\n",
       "      <td>0068a00001GjkgKAAR</td>\n",
       "      <td>0038a00002oIoybAAC</td>\n",
       "      <td>0014W00002Fh9PwQAJ</td>\n",
       "      <td>0124W0000007bPuQAI</td>\n",
       "      <td>False</td>\n",
       "      <td>False</td>\n",
       "      <td>642600.0</td>\n",
       "      <td>2025-03-31T00:00:00</td>\n",
       "      <td>Existing Business</td>\n",
       "      <td>0058a00000INIFDAA5</td>\n",
       "    </tr>\n",
       "    <tr>\n",
       "      <th>1585</th>\n",
       "      <td>00K8a00000Vtg2nEAB</td>\n",
       "      <td>0068a00001GjkgKAAR</td>\n",
       "      <td>0034W00002d7kJRQAY</td>\n",
       "      <td>0014W00002Fh9PwQAJ</td>\n",
       "      <td>0124W0000007bPuQAI</td>\n",
       "      <td>False</td>\n",
       "      <td>False</td>\n",
       "      <td>642600.0</td>\n",
       "      <td>2025-03-31T00:00:00</td>\n",
       "      <td>Existing Business</td>\n",
       "      <td>0058a00000INIFDAA5</td>\n",
       "    </tr>\n",
       "    <tr>\n",
       "      <th>1586</th>\n",
       "      <td>00K8a00000VtgMjEAJ</td>\n",
       "      <td>0068a00001GjlBhAAJ</td>\n",
       "      <td>0038a00002qLgMSAA0</td>\n",
       "      <td>0014W00002Fh9PwQAJ</td>\n",
       "      <td>0124W0000007bPuQAI</td>\n",
       "      <td>False</td>\n",
       "      <td>False</td>\n",
       "      <td>59200.0</td>\n",
       "      <td>2022-03-31T00:00:00</td>\n",
       "      <td>Existing Business</td>\n",
       "      <td>0058a00000INIFDAA5</td>\n",
       "    </tr>\n",
       "    <tr>\n",
       "      <th>1587</th>\n",
       "      <td>00K8a00000VtgMiEAJ</td>\n",
       "      <td>0068a00001GjlBhAAJ</td>\n",
       "      <td>0038a00002qLgMSAA0</td>\n",
       "      <td>0014W00002Fh9PwQAJ</td>\n",
       "      <td>0124W0000007bPuQAI</td>\n",
       "      <td>False</td>\n",
       "      <td>False</td>\n",
       "      <td>59200.0</td>\n",
       "      <td>2022-03-31T00:00:00</td>\n",
       "      <td>Existing Business</td>\n",
       "      <td>0058a00000INIFDAA5</td>\n",
       "    </tr>\n",
       "  </tbody>\n",
       "</table>\n",
       "<p>1588 rows × 11 columns</p>\n",
       "</div>"
      ],
      "text/plain": [
       "            OppConRoleId  ...             OwnerId\n",
       "0     00K8a00000XJm4bEAD  ...  0054W00000Ce45HQAR\n",
       "1     00K8a00000XJniXEAT  ...  0054W00000E5aXmQAJ\n",
       "2     00K8a00000XJpSvEAL  ...  0058a00000INI4UAAX\n",
       "3     00K8a00000XJjFgEAL  ...  0058a00000INI4ZAAX\n",
       "4     00K8a00000XJjX1EAL  ...  0054W00000D8NSsQAN\n",
       "...                  ...  ...                 ...\n",
       "1583  00K8a00000Vtg2pEAB  ...  0058a00000INIFDAA5\n",
       "1584  00K8a00000Vtg2oEAB  ...  0058a00000INIFDAA5\n",
       "1585  00K8a00000Vtg2nEAB  ...  0058a00000INIFDAA5\n",
       "1586  00K8a00000VtgMjEAJ  ...  0058a00000INIFDAA5\n",
       "1587  00K8a00000VtgMiEAJ  ...  0058a00000INIFDAA5\n",
       "\n",
       "[1588 rows x 11 columns]"
      ]
     },
     "execution_count": 32,
     "metadata": {},
     "output_type": "execute_result"
    }
   ],
   "source": [
    "opps"
   ]
  },
  {
   "cell_type": "markdown",
   "metadata": {},
   "source": [
    "## Get supplemental prospect data\n",
    "\n",
    "1. Remove excess tasks.\n",
    "2. Update opps with OpportunityType.\n",
    "3. Create summary dataframes.\n",
    "4. Merge sumary dataframes with prospects.\n",
    "5. Clean up fields.\n",
    "6. Output to CSV."
   ]
  },
  {
   "cell_type": "code",
   "execution_count": 34,
   "metadata": {},
   "outputs": [],
   "source": [
    "tasks = tasks[\n",
    "    (tasks.RecordTypeId == '0124W000001lKRjQAM') & # Only sales tasks record type\n",
    "    (tasks.Status == 'Completed') &\n",
    "    (tasks.Type.isin(['Call', 'Email', 'Other']))\n",
    "] "
   ]
  },
  {
   "cell_type": "code",
   "execution_count": 91,
   "metadata": {},
   "outputs": [],
   "source": [
    "def opp_record_type(row):\n",
    "    if row['RecordTypeId'] == '0124W0000007bPpQAI':\n",
    "        return 'New Business'\n",
    "    elif row['RecordTypeId'] == '0124W0000007bPuQAI':\n",
    "        return 'Renewal'\n",
    "    else:\n",
    "        return 'Partner'\n",
    "\n",
    "def opp_type(row):\n",
    "    if row['RecordType'] == 'Renewal' or row['RecordType'] == 'Partner':\n",
    "        return row['RecordType']\n",
    "    if row['Type'] == 'Existing Business':\n",
    "        return 'Upsell'\n",
    "    else:\n",
    "        return 'New Business'"
   ]
  },
  {
   "cell_type": "code",
   "execution_count": 46,
   "metadata": {},
   "outputs": [],
   "source": [
    "opps.loc[:, 'RecordType'] = opps.apply(opp_record_type, axis=1)\n",
    "opps.loc[:, 'OpportunityType'] = opps.apply(opp_type, axis=1)"
   ]
  },
  {
   "cell_type": "code",
   "execution_count": 79,
   "metadata": {},
   "outputs": [],
   "source": [
    "opps_to_merge = opps.groupby(['ContactId', 'OpportunityType']).size().unstack(fill_value=0).reset_index().rename({'New Business': 'new_business_count', 'Upsell': 'upsell_count', 'Renewal': 'renewal_count', 'Partner': 'partner_count'}, axis=1)"
   ]
  },
  {
   "cell_type": "code",
   "execution_count": 80,
   "metadata": {},
   "outputs": [],
   "source": [
    "tasks_to_merge = tasks.groupby(['WhoId', 'Type']).size().unstack(fill_value=0).reset_index().rename({'Call': 'call_count', 'Email': 'email_count', 'Other': 'other_count'}, axis=1)"
   ]
  },
  {
   "cell_type": "code",
   "execution_count": 81,
   "metadata": {},
   "outputs": [],
   "source": [
    "events_to_merge = events.groupby(['WhoId']).size().reset_index(name='event_count')"
   ]
  },
  {
   "cell_type": "code",
   "execution_count": 83,
   "metadata": {},
   "outputs": [],
   "source": [
    "prospects2 = prospects.merge(opps_to_merge, how='left', left_on='Id', right_on='ContactId').drop(['ContactId'], axis=1)"
   ]
  },
  {
   "cell_type": "code",
   "execution_count": 87,
   "metadata": {},
   "outputs": [],
   "source": [
    "prospects3 = prospects2.merge(tasks_to_merge, how='left', left_on='Id', right_on='WhoId').drop(['WhoId'], axis=1)"
   ]
  },
  {
   "cell_type": "code",
   "execution_count": 112,
   "metadata": {},
   "outputs": [],
   "source": [
    "prospects4 = prospects3.merge(events_to_merge, how='left', left_on='Id', right_on='WhoId').drop(['WhoId'], axis=1)"
   ]
  },
  {
   "cell_type": "code",
   "execution_count": 113,
   "metadata": {},
   "outputs": [],
   "source": [
    "# Clean up\n",
    "prospects4.HubSpot_Lead_Score__c = prospects4.HubSpot_Lead_Score__c.fillna(0)\n",
    "prospects4.Account_Number_of_Lost_Opportunities__c = prospects4.Account_Number_of_Lost_Opportunities__c.fillna(0)\n",
    "prospects4.Account_Number_of_Open_Opportunities__c = prospects4.Account_Number_of_Open_Opportunities__c.fillna(0)\n",
    "prospects4.Account_Number_of_Opportunities__c = prospects4.Account_Number_of_Opportunities__c.fillna(0)\n",
    "prospects4.Account_Number_of_Won_Opportunities__c = prospects4.Account_Number_of_Won_Opportunities__c.fillna(0)\n",
    "prospects4.Total_Customer_MRR__c = prospects4.Total_Customer_MRR__c.fillna(0)\n",
    "prospects4.new_business_count = prospects4.new_business_count.fillna(0)\n",
    "prospects4.renewal_count = prospects4.renewal_count.fillna(0)\n",
    "prospects4.upsell_count = prospects4.upsell_count.fillna(0)\n",
    "prospects4.partner_count = prospects4.partner_count.fillna(0)\n",
    "prospects4.call_count = prospects4.call_count.fillna(0)\n",
    "prospects4.email_count = prospects4.email_count.fillna(0)\n",
    "prospects4.other_count = prospects4.other_count.fillna(0)\n",
    "prospects4.event_count = prospects4.event_count.fillna(0)\n",
    "prospects4.Subscription_cf_signed_users_count__c = prospects4.Subscription_cf_signed_users_count__c.fillna(0)\n",
    "prospects4.Subscription_cf_users_count__c = prospects4.Subscription_cf_users_count__c.fillna(0)\n",
    "\n",
    "prospects4.ConvertedDate = prospects4.ConvertedDate.apply(lambda x: datetime.datetime.strptime(x, '%Y-%m-%dT%H:%M:%S') if pd.notnull(x) else None)\n",
    "prospects4.Became_a_marketing_qualified_lead_date__c = prospects4.Became_a_marketing_qualified_lead_date__c.apply(lambda x: datetime.datetime.strptime(x, '%Y-%m-%dT%H:%M:%S') if pd.notnull(x) else None)\n",
    "prospects4.CreatedDate = prospects4.CreatedDate.apply(lambda x: datetime.datetime.strptime(x, '%Y-%m-%dT%H:%M:%S') if pd.notnull(x) else None)\n",
    "prospects4.Subscription_activated_at__c = prospects4.Subscription_activated_at__c.apply(lambda x: datetime.datetime.strptime(x, '%Y-%m-%dT%H:%M:%S') if pd.notnull(x) else None)\n",
    "prospects4.Subscription_current_term_end__c = prospects4.Subscription_current_term_end__c.apply(lambda x: datetime.datetime.strptime(x, '%Y-%m-%dT%H:%M:%S') if pd.notnull(x) else None)\n",
    "prospects4.Subscription_trial_start__c = prospects4.Subscription_trial_start__c.apply(lambda x: datetime.datetime.strptime(x, '%Y-%m-%dT%H:%M:%S') if pd.notnull(x) else None)"
   ]
  },
  {
   "cell_type": "code",
   "execution_count": 117,
   "metadata": {},
   "outputs": [],
   "source": [
    "prospects4.to_csv('salesforce_prospects_data.csv', index=False)"
   ]
  }
 ],
 "metadata": {
  "interpreter": {
   "hash": "c99b249b549579173c9c4ce25feabeeb19bad774fe8ec7f0c91de9b3bf738b71"
  },
  "kernelspec": {
   "display_name": "Python 3.8.10 ('venv': venv)",
   "language": "python",
   "name": "python3"
  },
  "language_info": {
   "codemirror_mode": {
    "name": "ipython",
    "version": 3
   },
   "file_extension": ".py",
   "mimetype": "text/x-python",
   "name": "python",
   "nbconvert_exporter": "python",
   "pygments_lexer": "ipython3",
   "version": "3.8.10"
  },
  "orig_nbformat": 4
 },
 "nbformat": 4,
 "nbformat_minor": 2
}
